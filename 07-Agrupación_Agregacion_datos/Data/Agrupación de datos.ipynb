{
 "cells": [
  {
   "cell_type": "markdown",
   "metadata": {},
   "source": [
    "## Agrupación de datos "
   ]
  },
  {
   "cell_type": "markdown",
   "metadata": {},
   "source": [
    "1. Cargar el Dataset"
   ]
  },
  {
   "cell_type": "code",
   "execution_count": null,
   "metadata": {},
   "outputs": [],
   "source": [
    "import pandas as pd\n",
    "\n",
    "# Cargar datos de ventas (ejemplo)\n",
    "df = pd.read_csv('https://raw.githubusercontent.com/datagy/data/main/sales.csv', parse_dates=['date'])\n",
    "print(df.head())\n"
   ]
  },
  {
   "cell_type": "markdown",
   "metadata": {},
   "source": [
    "2. Agrupación por Marca y Promedio de Precios\n"
   ]
  },
  {
   "cell_type": "code",
   "execution_count": null,
   "metadata": {},
   "outputs": [],
   "source": [
    "# Cargar datos de smartphones\n",
    "df_smartphones = pd.read_csv('data/smartphones.csv')\n",
    "print(df_smartphones.head())\n"
   ]
  },
  {
   "cell_type": "markdown",
   "metadata": {},
   "source": [
    "3. Conteo de Modelos por Marca"
   ]
  },
  {
   "cell_type": "code",
   "execution_count": null,
   "metadata": {},
   "outputs": [],
   "source": [
    "# Contar la cantidad de modelos diferentes que tiene cada marca\n",
    "model_count_by_brand = df_smartphones.groupby('Brand')['Model'].nunique()\n",
    "print(model_count_by_brand)\n"
   ]
  },
  {
   "cell_type": "markdown",
   "metadata": {},
   "source": [
    "4. RAM Promedio por Marca"
   ]
  },
  {
   "cell_type": "code",
   "execution_count": null,
   "metadata": {},
   "outputs": [],
   "source": [
    "# Determinar la cantidad promedio de RAM para cada marca de smartphone\n",
    "average_ram_by_brand = df_smartphones.groupby('Brand')['RAM'].mean()\n",
    "print(average_ram_by_brand)\n"
   ]
  },
  {
   "cell_type": "markdown",
   "metadata": {},
   "source": [
    "5. Tabla Pivot de Precios Máximos por Color"
   ]
  },
  {
   "cell_type": "code",
   "execution_count": null,
   "metadata": {},
   "outputs": [],
   "source": [
    "import pandas as pd\n",
    "\n",
    "# Cargar datos de smartphones (reemplaza 'data/smartphones.csv' con la ruta correcta a tu archivo CSV)\n",
    "df_smartphones = pd.read_csv('data/smartphones.csv')\n",
    "\n",
    "# Mostrar los primeros registros del DataFrame para verificar la carga correcta de datos\n",
    "print(\"Primeros registros del DataFrame:\")\n",
    "print(df_smartphones.head())\n",
    "\n",
    "# Verificar los nombres de las columnas en el DataFrame\n",
    "print(\"\\nColumnas del DataFrame:\")\n",
    "print(df_smartphones.columns)\n",
    "\n",
    "# Ajustar los nombres de las columnas según sea necesario\n",
    "# Por ejemplo, si los nombres de las columnas son 'color' y 'price' en lugar de 'Color' y 'Price'\n",
    "column_color = 'Color'\n",
    "column_price = 'Price'\n",
    "\n",
    "# Eliminar filas con valores nulos en las columnas especificadas\n",
    "df_smartphones = df_smartphones.dropna(subset=[column_color, column_price])\n",
    "\n",
    "# Crear la tabla pivot que muestre el precio máximo de los smartphones para cada color\n",
    "pivot_max_price_by_color = df_smartphones.pivot_table(values=column_price, index=column_color, aggfunc='max')\n",
    "\n",
    "# Mostrar la tabla pivot\n",
    "print(\"\\nTabla pivot con el precio máximo por color:\")\n",
    "print(pivot_max_price_by_color)\n"
   ]
  },
  {
   "cell_type": "markdown",
   "metadata": {},
   "source": [
    "6. Distribución de Almacenamiento por Marca"
   ]
  },
  {
   "cell_type": "code",
   "execution_count": null,
   "metadata": {},
   "outputs": [],
   "source": [
    "# Calcular la distribución de la capacidad de almacenamiento para cada marca\n",
    "storage_distribution_by_brand = df_smartphones.groupby('Brand')['Storage'].value_counts(normalize=True).unstack()\n",
    "print(storage_distribution_by_brand)\n"
   ]
  },
  {
   "cell_type": "markdown",
   "metadata": {},
   "source": [
    "7. Precio Promedio por Combinación de RAM y Almacenamiento"
   ]
  },
  {
   "cell_type": "code",
   "execution_count": null,
   "metadata": {},
   "outputs": [],
   "source": [
    "# Generar una tabla pivot que muestre el precio promedio para cada combinación única de RAM y almacenamiento\n",
    "pivot_avg_price_by_ram_storage = df_smartphones.pivot_table(values='Price', index='RAM', columns='Storage', aggfunc='mean')\n",
    "print(pivot_avg_price_by_ram_storage)\n"
   ]
  },
  {
   "cell_type": "markdown",
   "metadata": {},
   "source": [
    "8. Cantidad de Smartphones Libres por Marca"
   ]
  },
  {
   "cell_type": "code",
   "execution_count": null,
   "metadata": {},
   "outputs": [],
   "source": [
    "# Contar cuántos smartphones de cada marca están libres de contratos con compañías celulares\n",
    "free_smartphones_by_brand = df_smartphones[df_smartphones['Free'] == 'Yes'].groupby('Brand').size()\n",
    "print(free_smartphones_by_brand)\n"
   ]
  },
  {
   "cell_type": "markdown",
   "metadata": {},
   "source": [
    "9. Precio Mínimo, Máximo y Promedio por Marca"
   ]
  },
  {
   "cell_type": "code",
   "execution_count": null,
   "metadata": {},
   "outputs": [],
   "source": [
    "# Crear una tabla pivot que resuma el precio mínimo, máximo y promedio para cada marca de smartphone\n",
    "pivot_price_summary_by_brand = df_smartphones.pivot_table(values='Price', index='Brand', aggfunc=['min', 'max', 'mean'])\n",
    "print(pivot_price_summary_by_brand)\n"
   ]
  },
  {
   "cell_type": "markdown",
   "metadata": {},
   "source": [
    "10. Smartphones por Rango de Precios"
   ]
  },
  {
   "cell_type": "code",
   "execution_count": null,
   "metadata": {},
   "outputs": [],
   "source": [
    "# Definir los rangos de precios\n",
    "bins = [0, 200, 400, 600, 800, 1000, 2000]\n",
    "labels = ['0-200', '201-400', '401-600', '601-800', '801-1000', '1001-2000']\n",
    "\n",
    "# Crear una nueva columna con los rangos de precios\n",
    "df_smartphones['Price_Range'] = pd.cut(df_smartphones['Price'], bins=bins, labels=labels)\n",
    "price_range_count = df_smartphones['Price_Range'].value_counts()\n",
    "print(price_range_count)\n"
   ]
  }
 ],
 "metadata": {
  "kernelspec": {
   "display_name": "Python 3",
   "language": "python",
   "name": "python3"
  },
  "language_info": {
   "codemirror_mode": {
    "name": "ipython",
    "version": 3
   },
   "file_extension": ".py",
   "mimetype": "text/x-python",
   "name": "python",
   "nbconvert_exporter": "python",
   "pygments_lexer": "ipython3",
   "version": "3.11.9"
  }
 },
 "nbformat": 4,
 "nbformat_minor": 2
}
